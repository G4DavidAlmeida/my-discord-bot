{
 "cells": [
  {
   "cell_type": "markdown",
   "metadata": {},
   "source": [
    "# youtube_dl exemplo 2"
   ]
  },
  {
   "cell_type": "markdown",
   "metadata": {},
   "source": [
    "## importações"
   ]
  },
  {
   "cell_type": "code",
   "execution_count": 14,
   "metadata": {},
   "outputs": [],
   "source": [
    "from __future__ import unicode_literals\n",
    "import youtube_dl"
   ]
  },
  {
   "cell_type": "markdown",
   "metadata": {},
   "source": [
    "## Criando classe de logger customized"
   ]
  },
  {
   "cell_type": "code",
   "execution_count": 21,
   "metadata": {},
   "outputs": [],
   "source": [
    "class MyLogger(object):\n",
    "    def debug(self, msg):\n",
    "        print(msg)\n",
    "\n",
    "    def warning(self, msg):\n",
    "        print(msg)\n",
    "\n",
    "    def error(self, msg):\n",
    "        print(msg)\n",
    "\n",
    "# hook a ser executado no fim do download\n",
    "def my_hook(d):\n",
    "    if d['status'] == 'finished':\n",
    "        print('Done downloading, now converting ...')\n",
    "    else:\n",
    "        print('download failed')"
   ]
  },
  {
   "cell_type": "code",
   "execution_count": 32,
   "metadata": {},
   "outputs": [],
   "source": [
    "ydl_opts = {\n",
    "    'outtmpl': 'static/%(title)s.%(ext)s',\n",
    "    'format': 'worstaudio/worst',\n",
    "    'restrictfilenames': True,\n",
    "    'default_search': 'auto',\n",
    "    'nooverwrites': True,\n",
    "    # 'postprocessors': [{\n",
    "    #     'key': 'FFmpegExtractAudio',\n",
    "    #     'preferredcodec': 'mp3',\n",
    "    #     'preferredquality': '192',\n",
    "    # }],\n",
    "    'logger': MyLogger(),\n",
    "    'progress_hooks': [my_hook],\n",
    "}"
   ]
  },
  {
   "cell_type": "code",
   "execution_count": 33,
   "metadata": {},
   "outputs": [
    {
     "name": "stdout",
     "output_type": "stream",
     "text": [
      "[youtube:tab] Downloading playlist RDMMLpbHlXPmmcE - add --no-playlist to just download video LpbHlXPmmcE\n",
      "[youtube:tab] RDMMLpbHlXPmmcE: Downloading webpage\n",
      "[download] Downloading playlist: My Mix\n",
      "[youtube:tab] playlist My Mix: Downloading 25 videos\n",
      "[download] Downloading video 1 of 25\n",
      "[youtube] LpbHlXPmmcE: Downloading webpage\n",
      "[download] Downloading video 2 of 25\n",
      "[youtube] Uvck7ItXwdc: Downloading webpage\n",
      "[download] Downloading video 3 of 25\n",
      "[youtube] wIiVp3poe2c: Downloading webpage\n",
      "[download] Downloading video 4 of 25\n",
      "[youtube] cgBvhmxun5M: Downloading webpage\n",
      "[download] Downloading video 5 of 25\n",
      "[youtube] QtxeJ703w18: Downloading webpage\n",
      "[download] Downloading video 6 of 25\n",
      "[youtube] H7VGenCWbN4: Downloading webpage\n",
      "[download] Downloading video 7 of 25\n",
      "[youtube] tbhdL8VLhwI: Downloading webpage\n",
      "[download] Downloading video 8 of 25\n",
      "[youtube] bC77czRbjd0: Downloading webpage\n",
      "[download] Downloading video 9 of 25\n",
      "[youtube] ur57IunS9To: Downloading webpage\n",
      "[download] Downloading video 10 of 25\n",
      "[youtube] BXsWn9DhF5g: Downloading webpage\n",
      "[download] Downloading video 11 of 25\n",
      "[youtube] lDlU08RU7Tk: Downloading webpage\n",
      "[download] Downloading video 12 of 25\n",
      "[youtube] IzMCgyKvcn4: Downloading webpage\n",
      "[download] Downloading video 13 of 25\n",
      "[youtube] CnQm2_cAZvo: Downloading webpage\n",
      "[download] Downloading video 14 of 25\n",
      "[youtube] QmHhIDUrdVA: Downloading webpage\n",
      "[download] Downloading video 15 of 25\n",
      "[youtube] wQiT-2l__QM: Downloading webpage\n",
      "[download] Downloading video 16 of 25\n",
      "[youtube] L4tetTHHPEQ: Downloading webpage\n",
      "[download] Downloading video 17 of 25\n",
      "[youtube] iyXIPzIKwcY: Downloading webpage\n",
      "[download] Downloading video 18 of 25\n",
      "[youtube] xuZA6qiJVfU: Downloading webpage\n",
      "[download] Downloading video 19 of 25\n",
      "[youtube] oIyo8oC2cCE: Downloading webpage\n",
      "[download] Downloading video 20 of 25\n",
      "[youtube] 7AR6KQOiNHA: Downloading webpage\n",
      "[download] Downloading video 21 of 25\n",
      "[youtube] fAQxKI43DZM: Downloading webpage\n",
      "[download] Downloading video 22 of 25\n",
      "[youtube] ojZ0k9ymdU0: Downloading webpage\n",
      "[download] Downloading video 23 of 25\n",
      "[youtube] BuYf0taXoNw: Downloading webpage\n",
      "[download] Downloading video 24 of 25\n",
      "[youtube] s3SZ5sIMY6o: Downloading webpage\n",
      "[download] Downloading video 25 of 25\n",
      "[youtube] FuQy4PReiSM: Downloading webpage\n",
      "[download] Finished downloading playlist: My Mix\n"
     ]
    }
   ],
   "source": [
    "with youtube_dl.YoutubeDL(ydl_opts) as ydl:\n",
    "    \n",
    "    info_list = ydl.extract_info(\n",
    "        'https://www.youtube.com/watch?v=LpbHlXPmmcE&list=RDMMLpbHlXPmmcE&index=1',\n",
    "        False\n",
    "    )"
   ]
  },
  {
   "cell_type": "code",
   "execution_count": null,
   "metadata": {},
   "outputs": [],
   "source": []
  }
 ],
 "metadata": {
  "interpreter": {
   "hash": "8d6af9ad2a2b2ccffac1e39c39a8874fb574dd57a86d77e62f748428b4ba6f0c"
  },
  "kernelspec": {
   "display_name": "Python 3.8.10 64-bit ('venv': venv)",
   "name": "python3"
  },
  "language_info": {
   "codemirror_mode": {
    "name": "ipython",
    "version": 3
   },
   "file_extension": ".py",
   "mimetype": "text/x-python",
   "name": "python",
   "nbconvert_exporter": "python",
   "pygments_lexer": "ipython3",
   "version": "3.8.10"
  },
  "orig_nbformat": 4
 },
 "nbformat": 4,
 "nbformat_minor": 2
}
