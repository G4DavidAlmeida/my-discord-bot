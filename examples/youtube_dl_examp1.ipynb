{
 "cells": [
  {
   "cell_type": "markdown",
   "metadata": {},
   "source": [
    "# youtube_dl exemplo 1"
   ]
  },
  {
   "cell_type": "markdown",
   "metadata": {},
   "source": [
    "## importando módulo"
   ]
  },
  {
   "cell_type": "code",
   "execution_count": 1,
   "metadata": {},
   "outputs": [],
   "source": [
    "import youtube_dl\n",
    "from __future__ import unicode_literals"
   ]
  },
  {
   "cell_type": "code",
   "execution_count": 2,
   "metadata": {},
   "outputs": [],
   "source": [
    "youtube_dl.utils.bug_reports_message = lambda: ''"
   ]
  },
  {
   "cell_type": "code",
   "execution_count": 3,
   "metadata": {},
   "outputs": [],
   "source": [
    "ytdl_format_options = {\n",
    "    'outtmpl': 'static/audios/%(extractor_key)s/%(id)s-%(title)s.%(ext)s',\n",
    "    'format': 'worstaudio/worst', # best, worst, bestvideo, worstvideo, bestaudio, worstaudio\n",
    "    'restrictfilenames': True,\n",
    "    'noplaylist': True,\n",
    "    'nocheckcertificate': True,\n",
    "    'ignoreerrors': False,\n",
    "    'logtostderr': False,\n",
    "    'quiet': True,\n",
    "    'no_warnings': True,\n",
    "    'default_search': 'auto',\n",
    "    'source_address': '0.0.0.0' # bind to ipv4 since ipv6 addresses cause issues sometimes\n",
    "}"
   ]
  },
  {
   "cell_type": "code",
   "execution_count": null,
   "metadata": {},
   "outputs": [],
   "source": [
    "with youtube_dl.YoutubeDL(ytdl_format_options) as ytdl:\n",
    "    url_back_to_future = 'https://www.youtube.com/watch?v=LpbHlXPmmcE&list=RDMMLpbHlXPmmcE&index=4'\n",
    "    ytdl.download([url_back_to_future])"
   ]
  }
 ],
 "metadata": {
  "interpreter": {
   "hash": "8d6af9ad2a2b2ccffac1e39c39a8874fb574dd57a86d77e62f748428b4ba6f0c"
  },
  "kernelspec": {
   "display_name": "Python 3.8.10 64-bit ('venv': venv)",
   "name": "python3"
  },
  "language_info": {
   "codemirror_mode": {
    "name": "ipython",
    "version": 3
   },
   "file_extension": ".py",
   "mimetype": "text/x-python",
   "name": "python",
   "nbconvert_exporter": "python",
   "pygments_lexer": "ipython3",
   "version": "3.8.10"
  },
  "orig_nbformat": 4
 },
 "nbformat": 4,
 "nbformat_minor": 2
}
